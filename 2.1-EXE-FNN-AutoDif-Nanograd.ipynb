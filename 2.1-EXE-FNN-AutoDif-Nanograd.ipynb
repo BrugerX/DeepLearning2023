{
 "cells": [
  {
   "cell_type": "markdown",
   "metadata": {
    "id": "HAva8TnYFtFu",
    "pycharm": {
     "name": "#%% md\n"
    },
    "cell_id": "91a224b1792c4ec8a83e501e1fc270b5",
    "deepnote_cell_type": "markdown"
   },
   "source": [
    "# Contents and why we need this lab\n",
    "\n",
    "This lab is about implementing neural networks yourself before we start using other frameworks that hide some of the computation from you. It builds on the first lab, where you derived the equations for neural network forward and backward propagation and gradient descent parameter updates. \n",
    "\n",
    "All the frameworks for deep learning you will meet from now on use automatic differentiation (autodiff), so you do not have to code the backward step yourself. In this version of this lab, you will develop your own autodif implementation. We also have an optional [version](https://github.com/DeepLearningDTU/02456-deep-learning-with-PyTorch/blob/master/2_Feedforward_Python/2.2-FNN-NumPy.ipynb) of this lab where you have to code the backward pass explicitly in Numpy."
   ],
   "block_group": "5407563a40e3421f84197ebd43c7e9c5"
  },
  {
   "cell_type": "markdown",
   "metadata": {
    "id": "sCa7HzwpFtFy",
    "pycharm": {
     "name": "#%% md\n"
    },
    "cell_id": "34048000ea8a40169d52c302fcc3e67a",
    "deepnote_cell_type": "markdown"
   },
   "source": [
    "# External sources of information\n",
    "\n",
    "1. Jupyter notebook. You can find more information about Jupyter notebooks [here](https://jupyter.org/). It will come as part of the [Anaconda](https://www.anaconda.com/) Python installation. \n",
    "2. [NumPy](https://numpy.org/). Part of Anaconda distribution.  If you already know how to program, most things about Python and NumPy can be found with Google searches.\n",
    "3. [Nanograd](https://github.com/rasmusbergpalm/nanograd) is a minimalistic version of autodiff developed by Rasmus Berg Palm that we use for our framework.\n"
   ],
   "block_group": "325c55fa584f4d5d87e0dc8e41d06cb0"
  },
  {
   "cell_type": "code",
   "metadata": {
    "pycharm": {
     "name": "#%%\n"
    },
    "collapsed": false,
    "source_hash": null,
    "execution_start": 1693838219952,
    "execution_millis": 5101,
    "deepnote_to_be_reexecuted": false,
    "cell_id": "a1c477736d434488a9a3af8b79a3c675",
    "deepnote_cell_type": "code"
   },
   "source": [],
   "block_group": "e76d141400ab452ab71398bca4e95778",
   "execution_count": null,
   "outputs": []
  },
  {
   "cell_type": "markdown",
   "metadata": {
    "id": "1SjiIp-TFtF0",
    "pycharm": {
     "name": "#%% md\n"
    },
    "cell_id": "27874ec30d4b46b6873ffaed06528c61",
    "deepnote_cell_type": "markdown"
   },
   "source": [
    "# This notebook will follow the next steps:\n",
    "\n",
    "1. Nanograd automatic differentiation framework\n",
    "2. Finite difference method\n",
    "3. Data generation\n",
    "4. Defining and initializing the network\n",
    "5. Forward pass\n",
    "6. Training loop \n",
    "7. Testing your model\n",
    "8. Further extensions"
   ],
   "block_group": "9c47d493e0df4294be934bacc4d15624"
  },
  {
   "cell_type": "markdown",
   "metadata": {
    "id": "OyXeAA-HuT7s",
    "pycharm": {
     "name": "#%% md\n"
    },
    "cell_id": "a8962bd2943c435bb6a7645fc546f743",
    "deepnote_cell_type": "markdown"
   },
   "source": [
    "# Nanograd automatic differention framework"
   ],
   "block_group": "406d76a1f29c4cfdbf104c21689f8c0e"
  },
  {
   "cell_type": "markdown",
   "metadata": {
    "id": "k6UWKCLKubgA",
    "pycharm": {
     "name": "#%% md\n"
    },
    "cell_id": "ffa47269b452445baaf22f1f1aa60665",
    "deepnote_cell_type": "markdown"
   },
   "source": [
    "The [Nanograd](https://github.com/rasmusbergpalm/nanograd) framework defines a class Var which both holds a value and gradient value that we can use to store the intermediate values when we apply the chain rule of differentiation."
   ],
   "block_group": "cf5e48e61d26400798701f5f024cfd62"
  },
  {
   "cell_type": "code",
   "metadata": {
    "id": "Jd4CoEBNzNWS",
    "pycharm": {
     "name": "#%%\n"
    },
    "source_hash": null,
    "execution_start": 1693838225032,
    "execution_millis": 20,
    "deepnote_to_be_reexecuted": false,
    "cell_id": "2525c84c2e6e480c80c1eb1acaf6bd3a",
    "deepnote_cell_type": "code"
   },
   "source": [
    "# Copy and pasted from https://github.com/rasmusbergpalm/nanograd/blob/3a1bf9e9e724da813bfccf91a6f309abdade9f39/nanograd.py\n",
    "\n",
    "from math import exp, log\n",
    "\n",
    "class Var:\n",
    "    \"\"\"\n",
    "    A variable which holds a float and enables gradient computations.\n",
    "    \"\"\"\n",
    "\n",
    "    def __init__(self, val: float, grad_fn=lambda: []):\n",
    "        assert type(val) == float\n",
    "        self.v = val\n",
    "        self.grad_fn = grad_fn\n",
    "        self.grad = 0.0\n",
    "\n",
    "    def backprop(self, bp):\n",
    "        self.grad += bp\n",
    "        for input, grad in self.grad_fn():\n",
    "            input.backprop(grad * bp)\n",
    "\n",
    "    def backward(self):\n",
    "        self.backprop(1.0)\n",
    "\n",
    "    def __add__(self: 'Var', other: 'Var') -> 'Var':\n",
    "        return Var(self.v + other.v, lambda: [(self, 1.0), (other, 1.0)])\n",
    "\n",
    "    def __mul__(self: 'Var', other: 'Var') -> 'Var':\n",
    "        return Var(self.v * other.v, lambda: [(self, other.v), (other, self.v)])\n",
    "\n",
    "    def __pow__(self, power):\n",
    "        assert type(power) in {float, int}, \"power must be float or int\"\n",
    "        return Var(self.v ** power, lambda: [(self, power * self.v ** (power - 1))])\n",
    "\n",
    "    def __neg__(self: 'Var') -> 'Var':\n",
    "        return Var(-1.0) * self\n",
    "\n",
    "    def __sub__(self: 'Var', other: 'Var') -> 'Var':\n",
    "        return self + (-other)\n",
    "\n",
    "    def __truediv__(self: 'Var', other: 'Var') -> 'Var':\n",
    "        return self * other ** -1\n",
    "\n",
    "    def __repr__(self):\n",
    "        return \"Var(v=%.4f, grad=%.4f)\" % (self.v, self.grad)\n",
    "\n",
    "    def relu(self):\n",
    "        return Var(self.v if self.v > 0.0 else 0.0, lambda: [(self, 1.0 if self.v > 0.0 else 0.0)])\n",
    "\n",
    "    def identity(self):\n",
    "        return Var(self.v, lambda: [(self, 1.0)])\n",
    "\n",
    "    def tanh(self):\n",
    "        return Var(float(np.tanh(self.v)), lambda: [(self, float(1 - np.tanh(self.v) ** 2.0))])\n",
    "\n",
    "    def sigmoid(self):\n",
    "        return Var(1/(1+exp(-self.v)), lambda: [(self, 1/(1+exp(-self.v)) * (1 - 1/(1+exp(-self.v))))])\n",
    "\n",
    "    def exp(self):\n",
    "        return Var(exp(self.v), lambda: [(self, exp(self.v))])\n",
    "\n",
    "    def log(self):\n",
    "        return Var(log(self.v), lambda: [(self, self.v ** -1)])\n",
    "\n",
    "    def exp(self):\n",
    "        return Var(exp(self.v), lambda: [(self, exp(self.v))])\n",
    "    \n",
    "    def log(self):\n",
    "        return Var(log(self.v), lambda: [(self, self.v ** -1)])"
   ],
   "block_group": "b71b2696a39a46f5be86f8f4f1f786e0",
   "execution_count": 1,
   "outputs": []
  },
  {
   "cell_type": "markdown",
   "metadata": {
    "id": "yDX67D6jzcte",
    "pycharm": {
     "name": "#%% md\n"
    },
    "cell_id": "7e557dd910e94343a50f097232c5559c",
    "deepnote_cell_type": "markdown"
   },
   "source": [
    "A few examples illustrate how we can use this:"
   ],
   "block_group": "738a2d27d3d547d193bbbd5062c49d9e"
  },
  {
   "cell_type": "code",
   "metadata": {
    "id": "xk6PeLc3zwPT",
    "colab": {
     "base_uri": "https://localhost:8080/"
    },
    "pycharm": {
     "name": "#%%\n"
    },
    "outputId": "47e431b2-07ba-4cb1-ea21-997769641c67",
    "source_hash": null,
    "execution_start": 1693838225036,
    "execution_millis": 63,
    "deepnote_to_be_reexecuted": false,
    "cell_id": "1a9c9baf717246efbfd5bd18bf5f0486",
    "deepnote_cell_type": "code"
   },
   "source": [
    "a = Var(3.0)\n",
    "b = Var(5.0)\n",
    "f = a * b\n",
    "\n",
    "f.backward()\n",
    "\n",
    "for v in [a, b, f]:\n",
    "    print(v)"
   ],
   "block_group": "44be2df4d64849c9b22cbc8b8af5b8cd",
   "execution_count": 2,
   "outputs": [
    {
     "name": "stdout",
     "output_type": "stream",
     "text": [
      "Var(v=3.0000, grad=5.0000)\n",
      "Var(v=5.0000, grad=3.0000)\n",
      "Var(v=15.0000, grad=1.0000)\n"
     ]
    }
   ]
  },
  {
   "cell_type": "code",
   "metadata": {
    "id": "JmKhYgsY0g_o",
    "colab": {
     "base_uri": "https://localhost:8080/"
    },
    "pycharm": {
     "name": "#%%\n"
    },
    "outputId": "06c1b1df-c33c-40d3-922a-624612a591c7",
    "source_hash": null,
    "execution_start": 1693838225078,
    "execution_millis": 29,
    "deepnote_to_be_reexecuted": false,
    "cell_id": "0831e1cb887b47d6b6287c465f7823f1",
    "deepnote_cell_type": "code"
   },
   "source": [
    "a = Var(3.0)\n",
    "b = Var(5.0)\n",
    "c = a * b\n",
    "d = Var(9.0)\n",
    "e = a * d\n",
    "f = c + e\n",
    "\n",
    "f.backward()\n",
    "\n",
    "for v in [a, b, c, d, e, f]:\n",
    "    print(v)"
   ],
   "block_group": "774ed5932193422abff40547985f23d5",
   "execution_count": 3,
   "outputs": [
    {
     "name": "stdout",
     "output_type": "stream",
     "text": [
      "Var(v=3.0000, grad=14.0000)\n",
      "Var(v=5.0000, grad=3.0000)\n",
      "Var(v=15.0000, grad=1.0000)\n",
      "Var(v=9.0000, grad=3.0000)\n",
      "Var(v=27.0000, grad=1.0000)\n",
      "Var(v=42.0000, grad=1.0000)\n"
     ]
    }
   ]
  },
  {
   "cell_type": "markdown",
   "metadata": {
    "id": "Fe3B6uEH140p",
    "pycharm": {
     "name": "#%% md\n"
    },
    "cell_id": "e5ddd40e1b114db1979c8f1d67982159",
    "deepnote_cell_type": "markdown"
   },
   "source": [
    "## Exercise a) What is being calculated?\n",
    "\n",
    "Explain briefly the output of the code? What is the expression we differentiate and with respect to what variables?\n",
    "\n",
    "### Answer\n",
    "\n",
    "We differentiate the expression\n",
    "\n",
    "$f = c + e = a * d + a * b$\n",
    "\n",
    "With regards to every variable."
   ],
   "block_group": "47d6a748f96943749ce2db13cb405e79"
  },
  {
   "cell_type": "markdown",
   "metadata": {
    "id": "q8_Q0t2I3Ruj",
    "pycharm": {
     "name": "#%% md\n"
    },
    "cell_id": "3a58387e40184dcf95ebed3b3463976e",
    "deepnote_cell_type": "markdown"
   },
   "source": [
    "## Exercise b) How does the backward function work?\n",
    "\n",
    "You need to understand how the backward function calculates the gradients. We can use the two examples above to help with that.\n",
    "\n",
    "Go through the following four steps and answer the questions on the way:\n",
    "\n",
    "1. We represent the two expressions as graphs as shown below. Fill in the missing expressions for the different derivatives.\n",
    "\n",
    "2. In the remainder consider the first expression. Make a schematic of the data structure which is generated when we define the expression for f. \n",
    "\n",
    "3. Then execute the backward function by hand to convince yourself that it indeed calculates the gradients with respect to the variables. \n",
    "\n",
    "I think of it from a mathematical perspective, where the backward function is akin to these mathematical expressions:\n",
    "\n",
    "$ \\frac{\\partial{f}}{\\partial{e}} = 1$\n",
    "$ \\frac{\\partial{f}}{\\partial{c}} = 1$\n",
    "$ \\frac{\\partial{f}}{\\partial{a}} = \\frac{\\partial{f}}{\\partial{e}} \\times \\frac{\\partial{e}}{\\partial{a}} + \\frac{\\partial{f}}{\\partial{c}} \\times \\frac{\\partial{c}}{\\partial{a}} = 14$\n",
    "\n",
    "$ \\frac{\\partial{f}}{\\partial{b}} = \\frac{\\partial{f}}{\\partial{e}} \\times \\frac{\\partial{e}}{\\partial{b}} = a = 3$\n",
    "\n",
    "$ \\frac{\\partial{f}}{\\partial{d}} = \\frac{\\partial{f}}{\\partial{c}} \\times \\frac{\\partial{c}}{\\partial{d}} = a = 3$\n",
    "\n",
    "\n",
    "4. Write down the sequence of calls to backprop.\n",
    "\n",
    "f.backprop(1)\n",
    "\n",
    "c.backprop(1)\n",
    "b.backprop(a)\n",
    "a.backprop(b)\n",
    "\n",
    "e.backprop(1)\n",
    "a.backprop(d)\n",
    "d.backprop(a)"
   ],
   "block_group": "261dfc2ffdf04c83a585f0a99a077cc5"
  },
  {
   "cell_type": "code",
   "metadata": {
    "id": "idGr71jYXl26",
    "pycharm": {
     "name": "#%%\n"
    },
    "source_hash": null,
    "execution_start": 1693838225079,
    "execution_millis": 46,
    "deepnote_to_be_reexecuted": false,
    "cell_id": "7fa23d38a6204fc0bfa3f1f86aa86779",
    "deepnote_cell_type": "code"
   },
   "source": [
    "# import logging\n",
    "#import graphviz\n",
    "\n",
    "#logging.basicConfig(format='[%(levelname)s@%(name)s] %(message)s', level=logging.DEBUG)\n",
    "\n",
    "#graphviz.__version__, graphviz.version()"
   ],
   "block_group": "246b6c37cb34443f8d2ea90f9071b218",
   "execution_count": 4,
   "outputs": []
  },
  {
   "cell_type": "markdown",
   "metadata": {
    "id": "A5oi21W4gpeM",
    "pycharm": {
     "name": "#%% md\n"
    },
    "cell_id": "bb7deb203c7048f28f0cb8263b4b14b2",
    "deepnote_cell_type": "markdown"
   },
   "source": [
    "## Exercise c) What happens if we run backward again?\n",
    "\n",
    "Try to execute the code below. Explain what happens.\n",
    "\n",
    "## Answer\n",
    "\n",
    "It just runs the algorithm again, adding the result to the existing gradient value"
   ],
   "block_group": "ee67346ba6d141209ba9651ada6f0b50"
  },
  {
   "cell_type": "code",
   "metadata": {
    "id": "DCtpJyr-gyX1",
    "colab": {
     "base_uri": "https://localhost:8080/"
    },
    "pycharm": {
     "name": "#%%\n"
    },
    "outputId": "d014bcfa-c9ae-49c3-d268-91cc6ca94ea5",
    "source_hash": null,
    "execution_start": 1693838225224,
    "execution_millis": 50,
    "deepnote_to_be_reexecuted": false,
    "cell_id": "5dfefbeab40f46dcad6065bb13051bcc",
    "deepnote_cell_type": "code"
   },
   "source": [
    "f.backward()\n",
    "\n",
    "for v in [a, b, c, d, e, f]:\n",
    "    print(v)"
   ],
   "block_group": "8b2f4817d3da4a4a9c156707bd43167f",
   "execution_count": 5,
   "outputs": [
    {
     "name": "stdout",
     "output_type": "stream",
     "text": [
      "Var(v=3.0000, grad=28.0000)\n",
      "Var(v=5.0000, grad=6.0000)\n",
      "Var(v=15.0000, grad=2.0000)\n",
      "Var(v=9.0000, grad=6.0000)\n",
      "Var(v=27.0000, grad=2.0000)\n",
      "Var(v=42.0000, grad=2.0000)\n"
     ]
    }
   ]
  },
  {
   "cell_type": "markdown",
   "metadata": {
    "id": "e8bPVq2VhsP-",
    "pycharm": {
     "name": "#%% md\n"
    },
    "cell_id": "fd03142ea8874a40bab7814d6c6dd4ad",
    "deepnote_cell_type": "markdown"
   },
   "source": [
    "## Exercise d) Zero gradient\n",
    "\n",
    "We can zero the gradient by backpropagating a -1.0 as is shown in the example below. (If you have run backward multiple time then you also have to run the cell below an equal amount of times.) Explain what is going on.\n",
    "\n",
    "## Answer\n",
    "\n",
    "We're multiplying the scalar inside the backpropagation(s) unto the gradient. By multiplying by -1, we're taking the direction of steepest descent.\n"
   ],
   "block_group": "f4b4bbe1bd404d63a9549d7f93463f94"
  },
  {
   "cell_type": "code",
   "metadata": {
    "id": "OnyPDQx9lJe0",
    "colab": {
     "base_uri": "https://localhost:8080/"
    },
    "pycharm": {
     "name": "#%%\n"
    },
    "outputId": "7a125fdc-60c4-4340-a580-8b82aea5b0db",
    "source_hash": null,
    "execution_start": 1693838225225,
    "execution_millis": 24,
    "deepnote_to_be_reexecuted": false,
    "cell_id": "eeb38f0437f24bdf80eeaba4e98b4c3d",
    "deepnote_cell_type": "code"
   },
   "source": [
    "a = Var(2.0)\n",
    "\n",
    "for v in [a, b, c, d, e, f]:\n",
    "    print(v)\n",
    "\n",
    "f.backprop(2.0)\n",
    "\n",
    "for v in [a, b, c, d, e, f]:\n",
    "    print(v)"
   ],
   "block_group": "ed3a2d6f8a6248ef918d616babf2be73",
   "execution_count": 6,
   "outputs": [
    {
     "name": "stdout",
     "output_type": "stream",
     "text": [
      "Var(v=2.0000, grad=0.0000)\n",
      "Var(v=5.0000, grad=6.0000)\n",
      "Var(v=15.0000, grad=2.0000)\n",
      "Var(v=9.0000, grad=6.0000)\n",
      "Var(v=27.0000, grad=2.0000)\n",
      "Var(v=42.0000, grad=2.0000)\n",
      "Var(v=2.0000, grad=0.0000)\n",
      "Var(v=5.0000, grad=12.0000)\n",
      "Var(v=15.0000, grad=4.0000)\n",
      "Var(v=9.0000, grad=12.0000)\n",
      "Var(v=27.0000, grad=4.0000)\n",
      "Var(v=42.0000, grad=4.0000)\n"
     ]
    }
   ]
  },
  {
   "cell_type": "markdown",
   "metadata": {
    "id": "U4057_ljNvWB",
    "pycharm": {
     "name": "#%% md\n"
    },
    "cell_id": "e09f4a78b6fc464b94d5f7396148a319",
    "deepnote_cell_type": "markdown"
   },
   "source": [
    "## Exercise e) Test correctness of derivatives with the finite difference method\n",
    "\n",
    "Write a small function that uses [the finite difference method](https://en.wikipedia.org/wiki/Finite_difference_method) to numerically test that backpropation implementation is working. In short we will use\n",
    "$$\n",
    "\\frac{\\partial f(a)}{\\partial a} \\approx \\frac{f(a+da)-f(a)}{da}\n",
    "$$\n",
    "for $da \\ll 1$.\n",
    "\n",
    "As an example, we could approximate the derivative of the function $f(a)=a^2$ in e.g. the value $a=4$ using the finite difference method. This amounts to inserting the relevant values and approximating the gradient $f'(4)$ with the fraction above. \n"
   ],
   "block_group": "330f03ee96d44c1498f9bd0464426ece"
  },
  {
   "cell_type": "code",
   "metadata": {
    "id": "9TGil92lSXDN",
    "colab": {
     "base_uri": "https://localhost:8080/"
    },
    "pycharm": {
     "name": "#%%\n"
    },
    "outputId": "7ef5489b-b525-4132-ab08-0b1109c07f4d",
    "source_hash": null,
    "execution_start": 1693838225225,
    "execution_millis": 24,
    "deepnote_to_be_reexecuted": false,
    "cell_id": "665308fb9ff24c0882aa1cdd903860ce",
    "deepnote_cell_type": "code"
   },
   "source": [
    "# f function - try to change the code to test other types of functions as well (such as different polynomials etc.)\n",
    "def f_function(a):\n",
    "  a = Var(a)\n",
    "  b = Var(5.0)\n",
    "  f = a * b\n",
    "  f.backward()\n",
    "  return a,f\n",
    "\n",
    "\n",
    "# Insert your finite difference code here\n",
    "def finite_difference(da=1e-10,a = 1.0):\n",
    "\n",
    "    \n",
    "    \n",
    "    _,_,fa_da = f_function(a + da)      # <- Insert correct expression\n",
    "    _,_,fa = f_function(a)         # <- Insert correct expression\n",
    "\n",
    "    finite_difference = (fa_da - fa) / Var(da)\n",
    "    \n",
    "    return finite_difference\n",
    "\n",
    "print(f_function(1.0))\n",
    "\n",
    "print(\"f{finite_difference()} == f'(1)/partial_a == 5, so it works\")"
   ],
   "block_group": "368c1ac8e5544d7dacd760656f526b7a",
   "execution_count": 7,
   "outputs": [
    {
     "name": "stdout",
     "output_type": "stream",
     "text": [
      "(Var(v=1.0000, grad=5.0000), Var(v=5.0000, grad=1.0000))\n",
      "f{finite_difference()} == f'(1)/partial_a == 5, so it works\n"
     ]
    }
   ]
  },
  {
   "cell_type": "markdown",
   "metadata": {
    "id": "6pZar5RKaUkg",
    "pycharm": {
     "name": "#%% md\n"
    },
    "cell_id": "2a8fbc7876e042b09e1d6c13290dc148",
    "deepnote_cell_type": "markdown"
   },
   "source": [
    "# Create an artificial dataset to play with\n",
    "\n",
    "We create a non-linear 1d regression task. The generator supports various noise levels and it creates train, validation and test sets. You can modify it yourself if you want more or less challenging tasks."
   ],
   "block_group": "54f00b14ac1c4c5a91154eacca3f619c"
  },
  {
   "cell_type": "code",
   "metadata": {
    "id": "Y6yfMAQ8aduj",
    "pycharm": {
     "name": "#%%\n"
    },
    "source_hash": null,
    "execution_start": 1693838225230,
    "execution_millis": 587,
    "deepnote_to_be_reexecuted": false,
    "cell_id": "043b7a604a2242428ed7e9c5acd5bccc",
    "deepnote_cell_type": "code"
   },
   "source": [
    "import numpy as np\n",
    "import matplotlib.pyplot as plt\n",
    "\n",
    "np.random.seed(42)"
   ],
   "block_group": "6cd6c5684ce74c47b2ac7cd267a6b967",
   "execution_count": 8,
   "outputs": []
  },
  {
   "cell_type": "code",
   "metadata": {
    "id": "4YabfD43ajNh",
    "pycharm": {
     "name": "#%%\n"
    },
    "source_hash": null,
    "execution_start": 1693838225817,
    "execution_millis": 58,
    "deepnote_to_be_reexecuted": false,
    "cell_id": "79adb9e8eeb8463382d0d356eca07da0",
    "deepnote_cell_type": "code"
   },
   "source": [
    "def data_generator(noise=0.1, n_samples=300, D1=True):\n",
    "    # Create covariates and response variable\n",
    "    if D1:\n",
    "        X = np.linspace(-3, 3, num=n_samples).reshape(-1,1) # 1-D\n",
    "        np.random.shuffle(X)\n",
    "        y = np.random.normal((0.5*np.sin(X[:,0]*3) + X[:,0]), noise) # 1-D with trend\n",
    "    else:\n",
    "        X = np.random.multivariate_normal(np.zeros(3), noise*np.eye(3), size = n_samples) # 3-D\n",
    "        np.random.shuffle(X)    \n",
    "        y = np.sin(X[:,0]) - 5*(X[:,1]**2) + 0.5*X[:,2] # 3-D\n",
    "\n",
    "    # Stack them together vertically to split data set\n",
    "    data_set = np.vstack((X.T,y)).T\n",
    "    \n",
    "    train, validation, test = np.split(data_set, [int(0.35*n_samples), int(0.7*n_samples)], axis=0)\n",
    "    \n",
    "    # Standardization of the data, remember we do the standardization with the training set mean and standard deviation\n",
    "    train_mu = np.mean(train, axis=0)\n",
    "    train_sigma = np.std(train, axis=0)\n",
    "    \n",
    "    train = (train-train_mu)/train_sigma\n",
    "    validation = (validation-train_mu)/train_sigma\n",
    "    test = (test-train_mu)/train_sigma\n",
    "    \n",
    "    x_train, x_validation, x_test = train[:,:-1], validation[:,:-1], test[:,:-1]\n",
    "    y_train, y_validation, y_test = train[:,-1], validation[:,-1], test[:,-1]\n",
    "\n",
    "    return x_train, y_train,  x_validation, y_validation, x_test, y_test"
   ],
   "block_group": "4e13a837e34f4fd9814b09a73dc7617a",
   "execution_count": 9,
   "outputs": []
  },
  {
   "cell_type": "code",
   "metadata": {
    "id": "u1oDngHLapIz",
    "pycharm": {
     "name": "#%%\n"
    },
    "source_hash": null,
    "execution_start": 1693838225869,
    "execution_millis": 13,
    "deepnote_to_be_reexecuted": false,
    "cell_id": "ed9e888c8eaa48288864411493111586",
    "deepnote_cell_type": "code"
   },
   "source": [
    "D1 = True\n",
    "x_train, y_train,  x_validation, y_validation, x_test, y_test = data_generator(noise=0.5, D1=D1)"
   ],
   "block_group": "e399c661414848069343fa1b8e54d418",
   "execution_count": 10,
   "outputs": []
  },
  {
   "cell_type": "code",
   "metadata": {
    "id": "Ysfa3FsBavlm",
    "colab": {
     "height": 265,
     "base_uri": "https://localhost:8080/"
    },
    "pycharm": {
     "name": "#%%\n"
    },
    "outputId": "399e5382-ae7d-48f6-9774-7ea4c73e7d95",
    "source_hash": null,
    "execution_start": 1693838225871,
    "execution_millis": 542,
    "deepnote_to_be_reexecuted": false,
    "cell_id": "d6630db71d464dbeb076ce4f6c544df7",
    "deepnote_cell_type": "code"
   },
   "source": [
    "if D1:\n",
    "    plt.scatter(x_train[:,0], y_train);\n",
    "    plt.scatter(x_validation[:,0], y_validation);\n",
    "    plt.scatter(x_test[:,0], y_test);\n",
    "else:\n",
    "    plt.scatter(x_train[:,1], y_train);\n",
    "    plt.scatter(x_validation[:,1], y_validation);\n",
    "    plt.scatter(x_test[:,1], y_test);\n",
    "plt.show()"
   ],
   "block_group": "886bf61c44f64857bd060a6fec34dbf8",
   "execution_count": 11,
   "outputs": [
    {
     "data": {
      "text/plain": "<Figure size 640x480 with 1 Axes>",
      "image/png": "[encoded data removed]"
     },
     "metadata": {},
     "output_type": "display_data"
    }
   ]
  },
  {
   "cell_type": "code",
   "metadata": {
    "id": "zac2HHNlgbpm",
    "pycharm": {
     "name": "#%%\n"
    },
    "source_hash": null,
    "execution_start": 1693838226122,
    "execution_millis": 61,
    "deepnote_to_be_reexecuted": false,
    "cell_id": "7770c4feeb9b408b86c742be46270744",
    "deepnote_cell_type": "code"
   },
   "source": [
    "# convert from nparray to Var\n",
    "def nparray_to_Var(x):\n",
    "  if x.ndim==1:\n",
    "    y = [[Var(float(x[i]))] for i in range(x.shape[0])] # always work with list of list\n",
    "  else:\n",
    "    y = [[Var(float(x[i,j])) for j in range(x.shape[1])] for i in range(x.shape[0])]\n",
    "  return y\n",
    "   \n",
    "x_train = nparray_to_Var(x_train)\n",
    "y_train = nparray_to_Var(y_train)\n",
    "x_validation = nparray_to_Var(x_validation)\n",
    "y_validation = nparray_to_Var(y_validation)\n",
    "x_test = nparray_to_Var(x_test)\n",
    "y_test = nparray_to_Var(y_test)\n"
   ],
   "block_group": "eabeef673c674a038d40f904fbe6b092",
   "execution_count": 12,
   "outputs": []
  },
  {
   "cell_type": "markdown",
   "metadata": {
    "id": "VbjrqcpVFtGe",
    "pycharm": {
     "name": "#%% md\n"
    },
    "cell_id": "7176718994f04fb9b4c9e7dd362d049f",
    "deepnote_cell_type": "markdown"
   },
   "source": [
    "# Defining and initializing the network\n",
    "\n",
    "The steps to create a feed forward neural network are the following:\n",
    "\n",
    "1. **Number of hidden layer and hidden units**. We have to define the number of hidden units in each layer. The number of features in X and the output dimensionality (the size of Y) are given but the numbers in between are set by the researcher. Remember that for each unit in each layer beside in the input has a bias term.\n",
    "2. **Activation functions** for each hidden layer. Each hidden layer in your list must have an activation function (it can also be the linear activation which is equivalent to identity function). The power of neural networks comes from non-linear activation functions that learn representations (features) from the data allowing us to learn from it. \n",
    "3. **Parameter initialization**. We will initialize the weights to have random values. This is done in practice by drawing pseudo random numbers from a Gaussian or uniform distribution. It turns out that for deeper models we have to be careful about how we scale the random numbers. This will be the topic of the exercise below. For now we will just use unit variance Gaussians.  \n",
    "\n",
    "In order to make life easier for ourselves we define a DenseLayer class that takes care of initialization and the forward pass. We can also extend it later with print and advanced initialization capabilities. For the latter we have introduced a Initializer class.\n",
    "\n",
    "Note that we use Sequence in the code below. A Sequence is an ordered list. This means the order we insert and access items are the same."
   ],
   "block_group": "8de625d6e42e46e296d9a6fd179d201c"
  },
  {
   "cell_type": "code",
   "metadata": {
    "id": "ij_ieRsAt7Xt",
    "pycharm": {
     "name": "#%%\n"
    },
    "source_hash": null,
    "execution_start": 1693838226125,
    "execution_millis": 25,
    "deepnote_to_be_reexecuted": false,
    "cell_id": "95cc559f494346a3ba4c041308bf06ca",
    "deepnote_cell_type": "code"
   },
   "source": [
    "class Initializer:\n",
    "\n",
    "  def init_weights(self, n_in, n_out):\n",
    "    raise NotImplementedError\n",
    "\n",
    "  def init_bias(self, n_out):\n",
    "    raise NotImplementedError"
   ],
   "block_group": "8cdb16fbe72b421ea6b839dfb28e4184",
   "execution_count": 13,
   "outputs": []
  },
  {
   "cell_type": "code",
   "metadata": {
    "id": "eb18N5phuIha",
    "pycharm": {
     "name": "#%%\n"
    },
    "source_hash": null,
    "execution_start": 1693838226145,
    "execution_millis": 41,
    "deepnote_to_be_reexecuted": false,
    "cell_id": "3021033af6494df1b15a007c63b76f22",
    "deepnote_cell_type": "code"
   },
   "source": [
    "import random\n",
    "\n",
    "class NormalInitializer(Initializer):\n",
    "\n",
    "  def __init__(self, mean=0, std=0.1):\n",
    "    self.mean = mean\n",
    "    self.std = std\n",
    "\n",
    "  def init_weights(self, n_in, n_out):\n",
    "    return [[Var(random.gauss(self.mean, self.std)) for _ in range(n_out)] for _ in range(n_in)]\n",
    "\n",
    "  def init_bias(self, n_out):\n",
    "    return [Var(0.0) for _ in range(n_out)]\n",
    "\n",
    "class ConstantInitializer(Initializer):\n",
    "\n",
    "  def __init__(self, weight=1.0, bias=0.0):\n",
    "    self.weight = weight\n",
    "    self.bias = bias\n",
    "\n",
    "  def init_weights(self, n_in, n_out):\n",
    "    return [[Var(self.weight) for _ in range(n_out)] for _ in range(n_in)]\n",
    "\n",
    "  def init_bias(self, n_out):\n",
    "    return [Var(self.bias) for _ in range(n_out)]"
   ],
   "block_group": "d976066471d54360b8d69f6e72c39282",
   "execution_count": 14,
   "outputs": []
  },
  {
   "cell_type": "code",
   "metadata": {
    "id": "jOLYGnZKuM6W",
    "pycharm": {
     "name": "#%%\n"
    },
    "source_hash": null,
    "execution_start": 1693838226149,
    "execution_millis": 38,
    "deepnote_to_be_reexecuted": false,
    "cell_id": "e3dbaac3052c454286d35a9f74b042a3",
    "deepnote_cell_type": "code"
   },
   "source": [
    "from typing import Sequence\n",
    "\n",
    "class DenseLayer:\n",
    "    def __init__(self, n_in: int, n_out: int, act_fn, initializer = NormalInitializer()):\n",
    "        self.weights = initializer.init_weights(n_in, n_out)\n",
    "        self.bias = initializer.init_bias(n_out)\n",
    "        self.act_fn = act_fn\n",
    "    \n",
    "    def __repr__(self):    \n",
    "        return 'Weights: ' + repr(self.weights) + ' Biases: ' + repr(self.bias)\n",
    "\n",
    "    def parameters(self) -> Sequence[Var]:\n",
    "      params = []\n",
    "      for r in self.weights:\n",
    "        params += r\n",
    "\n",
    "      return params + self.bias\n",
    "\n",
    "    def forward(self, single_input: Sequence[Var]) -> Sequence[Var]:\n",
    "        # self.weights is a matrix with dimension n_in x n_out. We check that the dimensionality of the input \n",
    "        # to the current layer matches the number of nodes in the current layer\n",
    "        assert len(self.weights) == len(single_input), \"weights and single_input must match in first dimension\"\n",
    "        weights = self.weights\n",
    "        out = []\n",
    "        # For some given data point single_input, we now want to calculate the resulting value in each node in the current layer\n",
    "        # We therefore loop over the (number of) nodes in the current layer:\n",
    "        for j in range(len(weights[0])): \n",
    "            # Initialize the node value depending on its corresponding parameters.\n",
    "            node = self.bias[j]\n",
    "            # We now finish the linear transformation corresponding to the parameters of the currently considered node.\n",
    "            for i in range(len(single_input)):\n",
    "                node += self.weights[i][j] * single_input[i]  # <- Insert code\n",
    "            node = self.act_fn(node)\n",
    "            out.append(node)\n",
    "\n",
    "        return out"
   ],
   "block_group": "de08dac0c74e43388e48f2142e427732",
   "execution_count": 15,
   "outputs": []
  },
  {
   "cell_type": "markdown",
   "metadata": {
    "id": "jpIZPBpNI0pO",
    "pycharm": {
     "name": "#%% md\n"
    },
    "cell_id": "b86a6decafb7459aabd85632241ddfe5",
    "deepnote_cell_type": "markdown"
   },
   "source": [
    "## Exercise f) Add more activation functions\n",
    "\n",
    "To have a full definition of the neural network, we must define an activation function for every layer. Several activation functions have been proposed and have different characteristics. In the Var class we have already defined the rectified linear init (relu). \n",
    " \n",
    "Implement the following activation functions in the Var class:\n",
    "\n",
    "* Identity: $$\\mathrm{identity}(x) = x$$\n",
    "* Hyperbolic tangent: $$\\tanh(x)$$\n",
    "* Sigmoid (or logistic function): $$\\mathrm{sigmoid}(x) = \\frac{1}{1.0 + \\exp(-x ) }$$  Hint: $\\mathrm{sigmoid}'(x)= \\mathrm{sigmoid}(x)(1-\\mathrm{sigmoid}(x))$.  \n",
    "\n",
    "Hint: You can seek inspiration in the relu method in the Var class."
   ],
   "block_group": "9456052fe05e4cddb691e73b408c50e7"
  },
  {
   "cell_type": "markdown",
   "metadata": {
    "id": "p_8n_SKnIW2F",
    "pycharm": {
     "name": "#%% md\n"
    },
    "cell_id": "c42dd87b264443288ed91387c63cdf13",
    "deepnote_cell_type": "markdown"
   },
   "source": [
    "## Exercise g) Complete the forward pass\n",
    "\n",
    "In the code below we initialize a 1-5-1 network and pass the training set through it. *The forward method in DenseLayer is **not** complete*. It just outputs zeros right now. The method forward should perform an [affine transformation](https://en.wikipedia.org/wiki/Affine_transformation) on the input followed by an application of the activation function."
   ],
   "block_group": "3fc2db2ef02c47ff8fa9bd3cd6f42cf2"
  },
  {
   "cell_type": "code",
   "metadata": {
    "id": "xDEjtePxE7Mv",
    "colab": {
     "height": 337,
     "base_uri": "https://localhost:8080/"
    },
    "pycharm": {
     "name": "#%%\n"
    },
    "outputId": "753406cd-d8a1-4282-ce03-25ad959b0e11",
    "source_hash": null,
    "execution_start": 1693838226171,
    "execution_millis": 28,
    "deepnote_to_be_reexecuted": false,
    "cell_id": "65c27e9fe37949f0b1f865917fd0a075",
    "deepnote_cell_type": "code"
   },
   "source": [
    "NN = [\n",
    "    DenseLayer(1, 5, lambda x: x.relu()),\n",
    "    DenseLayer(5, 1, lambda x: x.identity())\n",
    "]\n",
    "\n",
    "def forward(input, network):\n",
    "\n",
    "  def forward_single(x, network):\n",
    "    for layer in network:\n",
    "        x = layer.forward(x)\n",
    "    return x\n",
    "\n",
    "  output = [ forward_single(input[n], network) for n in range(len(input))]\n",
    "  return output\n",
    "\n",
    "print(forward(x_train, NN))\n"
   ],
   "block_group": "a825a50467e44f5cb8aeb5f914b184ed",
   "execution_count": 16,
   "outputs": [
    {
     "name": "stdout",
     "output_type": "stream",
     "text": [
      "[[Var(v=-0.0025, grad=0.0000)], [Var(v=-0.0050, grad=0.0000)], [Var(v=-0.0005, grad=0.0000)], [Var(v=-0.0278, grad=0.0000)], [Var(v=-0.0037, grad=0.0000)], [Var(v=-0.0034, grad=0.0000)], [Var(v=-0.0022, grad=0.0000)], [Var(v=-0.0067, grad=0.0000)], [Var(v=-0.0287, grad=0.0000)], [Var(v=-0.0014, grad=0.0000)], [Var(v=-0.0038, grad=0.0000)], [Var(v=-0.0177, grad=0.0000)], [Var(v=-0.0031, grad=0.0000)], [Var(v=-0.0202, grad=0.0000)], [Var(v=-0.0017, grad=0.0000)], [Var(v=-0.0032, grad=0.0000)], [Var(v=-0.0059, grad=0.0000)], [Var(v=-0.0028, grad=0.0000)], [Var(v=-0.0003, grad=0.0000)], [Var(v=-0.0010, grad=0.0000)], [Var(v=-0.0132, grad=0.0000)], [Var(v=-0.0058, grad=0.0000)], [Var(v=-0.0043, grad=0.0000)], [Var(v=-0.0044, grad=0.0000)], [Var(v=-0.0077, grad=0.0000)], [Var(v=-0.0208, grad=0.0000)], [Var(v=-0.0056, grad=0.0000)], [Var(v=-0.0062, grad=0.0000)], [Var(v=-0.0007, grad=0.0000)], [Var(v=-0.0039, grad=0.0000)], [Var(v=-0.0261, grad=0.0000)], [Var(v=-0.0009, grad=0.0000)], [Var(v=-0.0227, grad=0.0000)], [Var(v=-0.0246, grad=0.0000)], [Var(v=-0.0030, grad=0.0000)], [Var(v=-0.0046, grad=0.0000)], [Var(v=-0.0282, grad=0.0000)], [Var(v=-0.0107, grad=0.0000)], [Var(v=-0.0200, grad=0.0000)], [Var(v=-0.0143, grad=0.0000)], [Var(v=-0.0101, grad=0.0000)], [Var(v=-0.0137, grad=0.0000)], [Var(v=-0.0058, grad=0.0000)], [Var(v=-0.0170, grad=0.0000)], [Var(v=-0.0134, grad=0.0000)], [Var(v=-0.0164, grad=0.0000)], [Var(v=-0.0037, grad=0.0000)], [Var(v=-0.0035, grad=0.0000)], [Var(v=-0.0063, grad=0.0000)], [Var(v=-0.0036, grad=0.0000)], [Var(v=-0.0016, grad=0.0000)], [Var(v=-0.0001, grad=0.0000)], [Var(v=-0.0039, grad=0.0000)], [Var(v=-0.0139, grad=0.0000)], [Var(v=-0.0062, grad=0.0000)], [Var(v=-0.0055, grad=0.0000)], [Var(v=-0.0092, grad=0.0000)], [Var(v=-0.0103, grad=0.0000)], [Var(v=-0.0021, grad=0.0000)], [Var(v=-0.0244, grad=0.0000)], [Var(v=-0.0036, grad=0.0000)], [Var(v=-0.0172, grad=0.0000)], [Var(v=-0.0284, grad=0.0000)], [Var(v=-0.0018, grad=0.0000)], [Var(v=-0.0013, grad=0.0000)], [Var(v=-0.0234, grad=0.0000)], [Var(v=-0.0251, grad=0.0000)], [Var(v=-0.0046, grad=0.0000)], [Var(v=-0.0179, grad=0.0000)], [Var(v=-0.0018, grad=0.0000)], [Var(v=-0.0069, grad=0.0000)], [Var(v=-0.0031, grad=0.0000)], [Var(v=-0.0036, grad=0.0000)], [Var(v=-0.0021, grad=0.0000)], [Var(v=-0.0025, grad=0.0000)], [Var(v=-0.0056, grad=0.0000)], [Var(v=-0.0124, grad=0.0000)], [Var(v=-0.0120, grad=0.0000)], [Var(v=-0.0158, grad=0.0000)], [Var(v=-0.0059, grad=0.0000)], [Var(v=-0.0009, grad=0.0000)], [Var(v=-0.0005, grad=0.0000)], [Var(v=-0.0257, grad=0.0000)], [Var(v=-0.0035, grad=0.0000)], [Var(v=-0.0130, grad=0.0000)], [Var(v=-0.0056, grad=0.0000)], [Var(v=-0.0048, grad=0.0000)], [Var(v=-0.0145, grad=0.0000)], [Var(v=-0.0265, grad=0.0000)], [Var(v=-0.0276, grad=0.0000)], [Var(v=-0.0021, grad=0.0000)], [Var(v=-0.0084, grad=0.0000)], [Var(v=-0.0153, grad=0.0000)], [Var(v=-0.0033, grad=0.0000)], [Var(v=-0.0219, grad=0.0000)], [Var(v=-0.0263, grad=0.0000)], [Var(v=-0.0015, grad=0.0000)], [Var(v=-0.0003, grad=0.0000)], [Var(v=-0.0053, grad=0.0000)], [Var(v=-0.0156, grad=0.0000)], [Var(v=-0.0035, grad=0.0000)], [Var(v=-0.0151, grad=0.0000)], [Var(v=-0.0232, grad=0.0000)], [Var(v=-0.0017, grad=0.0000)], [Var(v=-0.0050, grad=0.0000)]]\n"
     ]
    }
   ]
  },
  {
   "cell_type": "markdown",
   "metadata": {
    "id": "oLrGJytZFtGm",
    "pycharm": {
     "name": "#%% md\n"
    },
    "cell_id": "28e9c4c5e08643359bc26bd96aa9d451",
    "deepnote_cell_type": "markdown"
   },
   "source": [
    "## Exercise h) Print all network parameters\n",
    "\n",
    "Make a function that prints all the parameters of the network (weights and biases) with information about in which layer the appear. In the object oriented spirit you should introduce a method in the DenseLayer class to print the parameters of a layer. Hint: You can take inspiration from the corresponding method in Var. "
   ],
   "block_group": "ff79fadaa5904b1d8188f3a0eec415e7"
  },
  {
   "cell_type": "code",
   "metadata": {
    "id": "iac-VwYGFtGm",
    "pycharm": {
     "name": "#%%\n"
    },
    "source_hash": null,
    "execution_start": 1693838226173,
    "execution_millis": 274,
    "deepnote_to_be_reexecuted": false,
    "cell_id": "26f19d5f1757486395b5caa726e6270d",
    "deepnote_cell_type": "code"
   },
   "source": [
    "# Insert code here and in the DenseLayer class"
   ],
   "block_group": "017e8b43bf834162b915228398ee9fde",
   "execution_count": 17,
   "outputs": []
  },
  {
   "cell_type": "markdown",
   "metadata": {
    "id": "_79HOAXrFtHK",
    "pycharm": {
     "name": "#%% md\n"
    },
    "cell_id": "fe2a689bd5fb42aba50377ec03fcfb0f",
    "deepnote_cell_type": "markdown"
   },
   "source": [
    "## Visualization\n",
    "\n",
    "Now that we have defined our activation functions we can visualize them to see what they look like:"
   ],
   "block_group": "b584b3f021664893a6a7ca2bbb8e27f9"
  },
  {
   "cell_type": "code",
   "metadata": {
    "id": "1FcylHqLTl-Z",
    "pycharm": {
     "name": "#%%\n"
    },
    "source_hash": null,
    "execution_start": 1693838226174,
    "execution_millis": 229,
    "deepnote_to_be_reexecuted": false,
    "cell_id": "aece724466ba44adb641e63872281e48",
    "deepnote_cell_type": "code"
   },
   "source": [
    "x = np.linspace(-6, 6, 100)\n",
    "\n",
    "# convert from Var to ndarray  \n",
    "def Var_to_nparray(x):\n",
    "  y = np.zeros((len(x),len(x[0])))\n",
    "  for i in range(len(x)):\n",
    "    for j in range(len(x[0])):\n",
    "      y[i,j] = x[i][j].v\n",
    "  return y\n",
    "\n",
    "# define 1-1 network with weight = 1 and relu activation \n",
    "NN = [ DenseLayer(1, 1, lambda x: x.relu(), initializer = ConstantInitializer(1.0)) ] \n",
    "y = Var_to_nparray(forward(nparray_to_Var(x), NN))\n",
    "\n",
    "#y = Var_to_nparray(relu(nparray_to_Var(x)))\n",
    "plt.plot(x,y)"
   ],
   "block_group": "8959780e93c44265a84b2c9b0e928439",
   "execution_count": 18,
   "outputs": [
    {
     "data": {
      "text/plain": "[<matplotlib.lines.Line2D at 0x1ce3c90e980>]"
     },
     "execution_count": 18,
     "metadata": {},
     "output_type": "execute_result"
    },
    {
     "data": {
      "text/plain": "<Figure size 640x480 with 1 Axes>",
      "image/png": "[encoded data removed]"
     },
     "metadata": {},
     "output_type": "display_data"
    }
   ]
  },
  {
   "cell_type": "code",
   "metadata": {
    "id": "oOL2UolJFtHL",
    "pycharm": {
     "name": "#%%\n"
    },
    "source_hash": null,
    "execution_start": 1693838226452,
    "execution_millis": 509,
    "deepnote_to_be_reexecuted": false,
    "cell_id": "f23c59cf0a80420981aa2cf1b0812669",
    "deepnote_cell_type": "code"
   },
   "source": [
    "# Testing all activation layers\n",
    "\n",
    "x = np.linspace(-6, 6, 100)\n",
    "units = {\n",
    "    \"identity\": lambda x: x.identity(),\n",
    "    \"sigmoid\": lambda x: x.sigmoid(),\n",
    "    \"relu\": lambda x: x.relu(),\n",
    "    \"tanh\": lambda x: x.tanh()\n",
    "}\n",
    "\n",
    "plt.figure(figsize=(5, 5))\n",
    "[plt.plot(x, Var_to_nparray(forward(nparray_to_Var(x), [DenseLayer(1, 1, unit, initializer = ConstantInitializer(1.0))]) ), label=unit_name, lw=2) for unit_name, unit in units.items()] # unit(nparray_to_Var(x))), label=unit_name, lw=2) for unit_name, unit in units.items()]\n",
    "plt.legend(loc=2, fontsize=16)\n",
    "plt.title('Our activation functions', fontsize=20)\n",
    "plt.ylim([-2, 5])\n",
    "plt.xlim([-6, 6])\n",
    "plt.show()"
   ],
   "block_group": "3955d0549512427abf44099634ea4114",
   "execution_count": 19,
   "outputs": [
    {
     "data": {
      "text/plain": "<Figure size 500x500 with 1 Axes>",
      "image/png": "[encoded data removed]"
     },
     "metadata": {},
     "output_type": "display_data"
    }
   ]
  },
  {
   "cell_type": "markdown",
   "metadata": {
    "id": "b-jdEl-7FtGs",
    "pycharm": {
     "name": "#%% md\n"
    },
    "cell_id": "dbbe8f1e5b0b49f290021a42dd8c1587",
    "deepnote_cell_type": "markdown"
   },
   "source": [
    "# Advanced initialization schemes\n",
    "\n",
    "If we are not careful with initialization, the signals we propagate forward ($a^{(l)}$, $l=1,\\ldots,L$) and backward ($\\delta^l$, $l=L,L-1,\\ldots,1$) can blow up or shrink to zero. A statistical analysis of the variance of the signals for different activation functions can be found in these two papers: [Glorot initialization](http://proceedings.mlr.press/v9/glorot10a/glorot10a.pdf) and [He initialization](https://arxiv.org/pdf/1502.01852v1.pdf). \n",
    "\n",
    "The result of the analyses are proposals for how to make the initialization such that the variance of the signals (forward and backward) are kept approxmimatly constant when propagating from layer to layer. The exact expressions depend upon the non-linear activation function used. In Glorot initialization, the aim is to keep both the forward and backward variances constant whereas He only aims at keeping the variance in the forward pass constant.\n",
    "\n",
    "We define $n_{in}$ and $n_{out}$ as the number of input units and output units of a particular layer. \n",
    "\n",
    "The Glorot initialization has the form: \n",
    "\n",
    "$$w_{ij} \\sim N \\bigg( 0, \\, \\frac{2 \\alpha }{n_{in} + n_{out}} \\bigg) \\ . $$\n",
    "\n",
    "where $N(\\mu,\\sigma^2)$ is a Gaussian distribution with mean $\\mu$ and variance $\\sigma^2$ and $\\alpha$ is a parameter that depends upon the activation function used. For $\\tanh$, $\\alpha=1$ and for Rectified Linear Unit (ReLU) activations, $\\alpha=2$. (It is also possible to use a uniform distribution for initialization, see [this blog post](https://mmuratarat.github.io/2019-02-25/xavier-glorot-he-weight-init).) \n",
    "\n",
    "The He initialization is very similar\n",
    "\n",
    "$$w_{ij} \\sim N \\bigg( 0, \\, \\frac{\\alpha}{n_{in}} \\bigg) \\ . $$"
   ],
   "block_group": "465a17c6fcd940158b4896ba957d92e6"
  },
  {
   "cell_type": "markdown",
   "metadata": {
    "id": "mqeyab9qFtGs",
    "pycharm": {
     "name": "#%% md\n"
    },
    "cell_id": "c0cc7b961e6d4cd3833c501336d867e5",
    "deepnote_cell_type": "markdown"
   },
   "source": [
    "## Exercise i) Glorot and He initialization\n",
    " \n",
    "Using the Initializer class, implement functions that implement Glorot and He \n",
    "\n",
    "Explain briefly how you would test numerically that these initializations have the sought after property. Hint: See plots in Glorot paper.\n",
    "\n",
    "Comment: If you want to be more advanced then try to make a universal initializer taking both the activation function and type (Glorot or He) as argument.\n",
    "\n",
    "### Answer\n",
    "\n",
    "We could check the variances of the activations across the layers to see if their variance is alike - or whether the variance of the variance of the activations across the layers is close to zero.\n",
    "\n"
   ],
   "block_group": "5c5e07ec648743c0b1169a7cffabc4f9"
  },
  {
   "cell_type": "code",
   "metadata": {
    "id": "Qyk01CgaFtGt",
    "pycharm": {
     "name": "#%%\n"
    },
    "source_hash": null,
    "execution_start": 1693838226673,
    "execution_millis": 34,
    "deepnote_to_be_reexecuted": false,
    "cell_id": "05c15e39fd334c9ea29403b7205cedf2",
    "deepnote_cell_type": "code"
   },
   "source": [
    "## Glorot\n",
    "def DenseLayer_Glorot_tanh(n_in: int, n_out: int):\n",
    "  std = 2.0/(n_in + n_out) # <- replace with proper initialization\n",
    "  return DenseLayer(n_in, n_out, lambda x: x.tanh(), initializer = NormalInitializer(std))\n",
    "\n",
    "## He\n",
    "def DenseLayer_He_relu(n_in: int, n_out: int):\n",
    "  std = 2.0/n_in # <- replace with proper initialization\n",
    "  return DenseLayer(n_in, n_out, lambda x: x.relu(), initializer = NormalInitializer(std))"
   ],
   "block_group": "78739d95f99c4d26905f98a156fed274",
   "execution_count": 20,
   "outputs": []
  },
  {
   "cell_type": "markdown",
   "metadata": {
    "id": "-XyXBD37FtHk",
    "pycharm": {
     "name": "#%% md\n"
    },
    "cell_id": "14961e00a1734433a73fdc82394be86e",
    "deepnote_cell_type": "markdown"
   },
   "source": [
    "## Exercise j) Forward pass unit test\n",
    "\n",
    "Write a bit of code to make a unit test that the forward pass works. This can be done by defining a simple network with for example all weights equal to one (using the ConstantInitializer method) and identity activation functions. \n",
    "\n",
    "Hints: Use the [assert](https://www.w3schools.com/python/ref_keyword_assert.asp), the nparray_to_Var and the Var_to_nparray commands. "
   ],
   "block_group": "e75d940958774097947c94d003bc45f3"
  },
  {
   "cell_type": "code",
   "metadata": {
    "id": "k0miqRUAFtHl",
    "pycharm": {
     "name": "#%%\n"
    },
    "source_hash": null,
    "execution_start": 1693838226674,
    "execution_millis": 35,
    "deepnote_to_be_reexecuted": false,
    "cell_id": "cd485d128ffe4dbbafe26b4c8150eeba",
    "deepnote_cell_type": "code"
   },
   "source": [
    "x = 1\n",
    "# define 1-1 network with weight = 1 and relu activation\n",
    "NN = [ DenseLayer(1, 2, lambda x: x.relu(), initializer = ConstantInitializer(1.0)),\n",
    "        DenseLayer(2, 1, lambda x: x.relu(), initializer = ConstantInitializer(1.0))]\n",
    "\n",
    "y = Var_to_nparray(forward(nparray_to_Var(np.array([x])), NN))\n",
    "\n",
    "assert y[0] == 2."
   ],
   "block_group": "9ccb1ce74e98429988de100b5f6e6b1d",
   "execution_count": 21,
   "outputs": []
  },
  {
   "cell_type": "markdown",
   "metadata": {
    "id": "faCxhfFnFtHp",
    "pycharm": {
     "name": "#%% md\n"
    },
    "cell_id": "eb07f0361fad45388d2c7779a95fd4e4",
    "deepnote_cell_type": "markdown"
   },
   "source": [
    "# Loss functions\n",
    "\n",
    "We are only missing a loss function to we need to define a loss function and its derivative with respect to the output of the neural network $y$"
   ],
   "block_group": "b2a89eb58c674382a69869171237d775"
  },
  {
   "cell_type": "code",
   "metadata": {
    "id": "I2eDYKvAFtHq",
    "pycharm": {
     "name": "#%%\n"
    },
    "source_hash": null,
    "execution_start": 1693838226674,
    "execution_millis": 77,
    "deepnote_to_be_reexecuted": false,
    "cell_id": "223ab70f8c90429da2ae3b356279d086",
    "deepnote_cell_type": "code"
   },
   "source": [
    "def squared_loss(t, y):\n",
    "  \n",
    "  assert len(t) == len(y)\n",
    "  \n",
    "  def squared_loss_single(t, y):\n",
    "    Loss = Var(0.0)\n",
    "    for i in range(len(t)): # sum over outputs\n",
    "      Loss += (t[i]-y[i]) ** 2\n",
    "    return Loss\n",
    "\n",
    "  Loss = Var(0.0)\n",
    "  for n in range(len(t)): # sum over training data\n",
    "    Loss += squared_loss_single(t[n],y[n])\n",
    "  return Loss"
   ],
   "block_group": "f3c895e28423499ea7fb627056116df4",
   "execution_count": 22,
   "outputs": []
  },
  {
   "cell_type": "markdown",
   "metadata": {
    "id": "SrwSJ2UWFtHu",
    "pycharm": {
     "name": "#%% md\n"
    },
    "cell_id": "f2afb7df1d2643ac85922e3349c88f40",
    "deepnote_cell_type": "markdown"
   },
   "source": [
    "## Exercise k) Implement cross entropy loss\n",
    "\n",
    "Insert code below to implement cross-entropy loss for general dimensionality of $t$. Use a logits formulation:\n",
    "$$\n",
    "\\rm{Loss} = - \\sum_i t_i \\, log \\, p_i \n",
    "$$\n",
    "with $p$ given by the the softmax function in terms of the logits $h$:\n",
    "$$\n",
    "p_i = \\frac{\\exp(h_i)}{\\sum_{i'} \\exp(h_{i'})} .\n",
    "$$\n",
    "Inserting $p$ in the expression for the loss gives\n",
    "$$\n",
    "\\rm{Loss} = - \\sum_i t_i h_i + \\rm{LogSumExp}(h) \\ ,\n",
    "$$\n",
    "where \n",
    "$$\n",
    "\\rm{LogSumExp}(h) = \\log \\sum_i \\exp h_i \\ .\n",
    "$$\n",
    "This is true for $t$ being a one-hot vector. \n",
    "\n",
    "Call the function to convince yourself it works. \n",
    "\n",
    "In practice you want to implement a [numerically stable](https://leimao.github.io/blog/LogSumExp/) version of LogSumExp. But we will not bother about that here.\n",
    "\n",
    "Help: You can add these methods in the Var class:\n",
    "\n",
    "   def exp(self):\n",
    "        return Var(exp(self.v), lambda: [(self, exp(self.v))])\n",
    "    \n",
    "    def log(self):\n",
    "        return Var(log(self.v), lambda: [(self, self.v ** -1)])"
   ],
   "block_group": "2a2dab63ff7c4ad0962e43794894baab"
  },
  {
   "cell_type": "code",
   "metadata": {
    "id": "6nMuxyfzFtHv",
    "pycharm": {
     "name": "#%%\n"
    },
    "source_hash": null,
    "execution_start": 1693838226677,
    "execution_millis": 31,
    "deepnote_to_be_reexecuted": false,
    "cell_id": "098b1fd92d644f9489ca7a16cc4eb684",
    "deepnote_cell_type": "code"
   },
   "source": [
    "def log_sum_exp(h):\n",
    "\n",
    "    l_s_e = Var(0.0)\n",
    "\n",
    "    for idx,hi in enumerate(h):\n",
    "        l_s_e += hi.exp()\n",
    "\n",
    "    return l_s_e.log()\n",
    "\n",
    "def cross_entropy_loss(t, h):\n",
    "\n",
    "    assert len(t) == len(h)\n",
    "    \n",
    "    Loss = Var(0.0)\n",
    "\n",
    "    for idx,t_i in enumerate(t):\n",
    "        Loss -= t_i*h[idx]\n",
    "    Loss += log_sum_exp(h)\n",
    "    return Loss"
   ],
   "block_group": "4179804db689474fbefaa862996596e2",
   "execution_count": 23,
   "outputs": []
  },
  {
   "cell_type": "code",
   "metadata": {
    "source_hash": null,
    "execution_start": 1693838226681,
    "execution_millis": 69,
    "deepnote_to_be_reexecuted": false,
    "cell_id": "97155a66043b49e4b6761ca95455ba9b",
    "deepnote_cell_type": "code",
    "pycharm": {
     "name": "#%%\n"
    }
   },
   "source": [
    "t = [Var(0.0),Var(0.0),Var(1.0)]\n",
    "h = [Var(0.0),Var(0.0),Var(1.0)]\n",
    "\n",
    "print(cross_entropy_loss(t,h))"
   ],
   "block_group": "97155a66043b49e4b6761ca95455ba9b",
   "execution_count": 24,
   "outputs": [
    {
     "name": "stdout",
     "output_type": "stream",
     "text": [
      "Var(v=0.5514, grad=0.0000)\n"
     ]
    }
   ]
  },
  {
   "cell_type": "markdown",
   "metadata": {
    "id": "8fAF5ew4FtHy",
    "pycharm": {
     "name": "#%% md\n"
    },
    "cell_id": "8220020490004fcaaf30bc3db120fdb0",
    "deepnote_cell_type": "markdown"
   },
   "source": [
    "# Backward pass\n",
    "\n",
    "Now the magic happens! We get the calculation of the gradients for free. Just do:"
   ],
   "block_group": "1b84ff59afd24826a89092c36d81a1ff"
  },
  {
   "cell_type": "code",
   "metadata": {
    "id": "iHyfPPI9Qqwu",
    "pycharm": {
     "name": "#%%\n"
    },
    "source_hash": null,
    "execution_start": 1693838226687,
    "execution_millis": 26,
    "deepnote_to_be_reexecuted": false,
    "cell_id": "5fa50daa66ec44e2ba4cd78359049b20",
    "deepnote_cell_type": "code"
   },
   "source": [
    "NN = [\n",
    "    DenseLayer(1, 5, lambda x: x.relu()),\n",
    "    DenseLayer(5, 1, lambda x: x.identity())\n",
    "]\n",
    "\n",
    "output = forward(x_train, NN)\n",
    "\n",
    "Loss = squared_loss(y_train,output)\n",
    "Loss.backward()"
   ],
   "block_group": "15fce0a3d8174483997f440413a30613",
   "execution_count": 25,
   "outputs": []
  },
  {
   "cell_type": "markdown",
   "metadata": {
    "id": "49biIAYKQ1oG",
    "pycharm": {
     "name": "#%% md\n"
    },
    "cell_id": "1d887f3581ad40ef89054a5ce5bfbf1a",
    "deepnote_cell_type": "markdown"
   },
   "source": [
    "and the gradients will be calculated:"
   ],
   "block_group": "b9e8dc86427446d4833bc47b7a3abff0"
  },
  {
   "cell_type": "code",
   "metadata": {
    "id": "_rGt1bq_Q7uk",
    "pycharm": {
     "name": "#%%\n"
    },
    "source_hash": null,
    "execution_start": 1693838226696,
    "execution_millis": 20,
    "deepnote_to_be_reexecuted": false,
    "cell_id": "c4e409dbdadf42d181f0d21f16734e8c",
    "deepnote_cell_type": "code"
   },
   "source": [
    "[print('Layer', i, '\\n', NN[i]) for i in range(len(NN))] "
   ],
   "block_group": "029518e2e18340b38fabe0618bb00220",
   "execution_count": 26,
   "outputs": [
    {
     "name": "stdout",
     "output_type": "stream",
     "text": [
      "Layer 0 \n",
      " Weights: [[Var(v=0.0455, grad=4.4912), Var(v=-0.0231, grad=9.5228), Var(v=0.0595, grad=5.3082), Var(v=0.0834, grad=-1.1960), Var(v=-0.0100, grad=-0.0889)]] Biases: [Var(v=0.0000, grad=3.8576), Var(v=0.0000, grad=-8.6553), Var(v=0.0000, grad=4.5594), Var(v=0.0000, grad=-1.0273), Var(v=0.0000, grad=0.0808)]\n",
      "Layer 1 \n",
      " Weights: [[Var(v=-0.0440, grad=-4.6434)], [Var(v=-0.0994, grad=2.2134)], [Var(v=-0.0520, grad=-6.0693)], [Var(v=0.0117, grad=-8.5090)], [Var(v=0.0009, grad=0.9587)]] Biases: [Var(v=0.0000, grad=-0.5934)]\n"
     ]
    },
    {
     "data": {
      "text/plain": "[None, None]"
     },
     "execution_count": 26,
     "metadata": {},
     "output_type": "execute_result"
    }
   ]
  },
  {
   "cell_type": "markdown",
   "metadata": {
    "id": "D7d7qK0uFtH9",
    "pycharm": {
     "name": "#%% md\n"
    },
    "cell_id": "971299b4580f4ce6897908b3e80274ff",
    "deepnote_cell_type": "markdown"
   },
   "source": [
    "# Backward pass unit test\n",
    "\n",
    "Above we used finite differences to test that Nanograd is actually doing what it is supposed to do. We can in principle try the same for the neural network. But we will trust that the test above is enough."
   ],
   "block_group": "2fc5a9c17a5a46b8939565eb138886c5"
  },
  {
   "cell_type": "markdown",
   "metadata": {
    "id": "WgBi8GOSFtIN",
    "pycharm": {
     "name": "#%% md\n"
    },
    "cell_id": "921045c56b144968bb2e429ffa364587",
    "deepnote_cell_type": "markdown"
   },
   "source": [
    "# Training and validation\n",
    "\n",
    "We are ready to train some neural networks!\n",
    "\n",
    "We initialize again:"
   ],
   "block_group": "efa7f834579a4502a9ab37b54a1d68fe"
  },
  {
   "cell_type": "code",
   "metadata": {
    "id": "01ePmzBzRtdh",
    "pycharm": {
     "name": "#%%\n"
    },
    "source_hash": null,
    "execution_start": 1693838227071,
    "execution_millis": 1770,
    "deepnote_to_be_reexecuted": false,
    "cell_id": "a5b49bb0e73a410981fff9ce5c1886da",
    "deepnote_cell_type": "code"
   },
   "source": [
    "NN = [\n",
    "    DenseLayer(1, 15, lambda x: x.relu()),\n",
    "    DenseLayer(15, 50, lambda x: x.relu()),\n",
    "    DenseLayer(50, 1, lambda x: x.identity())\n",
    "]\n",
    "\n",
    "output = forward(x_train, NN)\n",
    "\n",
    "Loss = squared_loss(y_train,output)\n",
    "Loss.backward()"
   ],
   "block_group": "429fca3fb3164ebd8c0c477aca1705fa",
   "execution_count": 27,
   "outputs": []
  },
  {
   "cell_type": "markdown",
   "metadata": {
    "id": "10iRPiQ1ISHw",
    "pycharm": {
     "name": "#%% md\n"
    },
    "cell_id": "6e3c711d98db4b038c08944d5ba50da5",
    "deepnote_cell_type": "markdown"
   },
   "source": [
    "and make an update:\n",
    "\n",
    "We introduce a help function parameters to have a handle in all parameters in the network."
   ],
   "block_group": "eb6fd3deabf244ce84fed7c0aae4f692"
  },
  {
   "cell_type": "code",
   "metadata": {
    "id": "dhAI7eyeznia",
    "pycharm": {
     "name": "#%%\n"
    },
    "source_hash": null,
    "execution_start": 1693838228848,
    "execution_millis": 310,
    "deepnote_to_be_reexecuted": false,
    "cell_id": "c70e0f3deb4a42e08a155ab53dbe4492",
    "deepnote_cell_type": "code"
   },
   "source": [
    "print('Network before update:')\n",
    "[print('Layer', i, '\\n', NN[i]) for i in range(len(NN))] \n",
    "\n",
    "def parameters(network):\n",
    "  params = []\n",
    "  for layer in range(len(network)):\n",
    "    params += network[layer].parameters()\n",
    "  return params\n",
    "\n",
    "def update_parameters(params, learning_rate=0.01):\n",
    "  for p in params:\n",
    "    p.v -= learning_rate*p.grad\n",
    "\n",
    "def zero_gradients(params):\n",
    "  for p in params:\n",
    "    p.grad = 0.0\n",
    "\n",
    "update_parameters(parameters(NN))\n",
    "\n",
    "print('\\nNetwork after update:')\n",
    "[print('Layer', i, '\\n', NN[i]) for i in range(len(NN))] \n",
    "\n",
    "zero_gradients(parameters(NN))\n",
    "\n",
    "print('\\nNetwork after zeroing gradients:')\n",
    "[print('Layer', i, '\\n', NN[i]) for i in range(len(NN))] "
   ],
   "block_group": "ef7d97db546f4b93bc028874c0719c59",
   "execution_count": 30,
   "outputs": [
    {
     "name": "stderr",
     "output_type": "stream",
     "text": [
      "IOPub data rate exceeded.\n",
      "The Jupyter server will temporarily stop sending output\n",
      "to the client in order to avoid crashing it.\n",
      "To change this limit, set the config variable\n",
      "`--ServerApp.iopub_data_rate_limit`.\n",
      "\n",
      "Current values:\n",
      "ServerApp.iopub_data_rate_limit=1000000.0 (bytes/sec)\n",
      "ServerApp.rate_limit_window=3.0 (secs)\n",
      "\n"
     ]
    },
    {
     "data": {
      "text/plain": "[None, None, None, None, None, None]"
     },
     "execution_count": 30,
     "metadata": {},
     "output_type": "execute_result"
    }
   ]
  },
  {
   "cell_type": "code",
   "metadata": {
    "id": "woWYpdw6FtIO",
    "pycharm": {
     "name": "#%%\n"
    },
    "source_hash": null,
    "execution_start": 1693838228900,
    "execution_millis": 2129,
    "deepnote_to_be_reexecuted": false,
    "cell_id": "a645632b962c4454b9bdd22f6f236fd8",
    "deepnote_cell_type": "code"
   },
   "source": [
    "k = 8\n",
    "NN = [\n",
    "    DenseLayer(1, k, lambda x: x.relu()),\n",
    "    DenseLayer(k, k, lambda x: x.relu()),\n",
    "    DenseLayer(k, 1, lambda x: x.identity())\n",
    "]\n",
    "\n",
    "output = forward(x_train, NN)\n",
    "\n",
    "Loss = squared_loss(y_train,output)\n",
    "Loss.backward()"
   ],
   "block_group": "7a85b7f8e3f242c6948e026a30478f9f",
   "execution_count": 31,
   "outputs": []
  },
  {
   "cell_type": "code",
   "metadata": {
    "id": "mdqaqYBVFtIR",
    "pycharm": {
     "name": "#%%\n"
    },
    "source_hash": null,
    "execution_start": 1693838231037,
    "execution_millis": 9,
    "deepnote_to_be_reexecuted": false,
    "cell_id": "b6204cddefd048a99c2ef71cdff1dc01",
    "deepnote_cell_type": "code"
   },
   "source": [
    "# Initialize training hyperparameters\n",
    "EPOCHS = 200\n",
    "LEARN_R = 2e-3 "
   ],
   "block_group": "e67b55a7a2134323b7cd066abd8cb989",
   "execution_count": 32,
   "outputs": []
  },
  {
   "cell_type": "code",
   "metadata": {
    "id": "5kfg76GMFtIW",
    "colab": {
     "base_uri": "https://localhost:8080/"
    },
    "pycharm": {
     "name": "#%%\n"
    },
    "outputId": "e30cf68a-31f2-42b4-cc5e-860c297c0f04",
    "scrolled": true,
    "source_hash": null,
    "execution_start": 1693838231041,
    "execution_millis": 477,
    "deepnote_to_be_reexecuted": false,
    "cell_id": "b0a2e23910e84613ac1a59bef61a6197",
    "deepnote_cell_type": "code"
   },
   "source": [
    "train_loss = []\n",
    "val_loss = []\n",
    "\n",
    "for e in range(EPOCHS):\n",
    "    # Forward pass and loss computation\n",
    "    Loss = squared_loss(y_train, forward(x_train, NN))\n",
    "\n",
    "    # Backward pass\n",
    "    Loss.backward()\n",
    "    \n",
    "    # gradient descent update\n",
    "    update_parameters(parameters(NN), LEARN_R)\n",
    "    zero_gradients(parameters(NN))\n",
    "    \n",
    "    # Training loss\n",
    "    train_loss.append(Loss.v)\n",
    "    \n",
    "    # Validation\n",
    "    Loss_validation = squared_loss(y_validation, forward(x_validation, NN))\n",
    "    val_loss.append(Loss_validation.v)\n",
    "    \n",
    "    if e%10==0:\n",
    "        print(\"{:4d}\".format(e),\n",
    "              \"({:5.2f}%)\".format(e/EPOCHS*100), \n",
    "              \"Train loss: {:4.3f} \\t Validation loss: {:4.3f}\".format(train_loss[-1], val_loss[-1]))\n",
    "        \n"
   ],
   "block_group": "c92996b20ae7498e9fe19dc5f6467962",
   "execution_count": 33,
   "outputs": [
    {
     "name": "stdout",
     "output_type": "stream",
     "text": [
      "   0 ( 0.00%) Train loss: 105.714 \t Validation loss: 107.633\n",
      "  10 ( 5.00%) Train loss: 101.502 \t Validation loss: 103.499\n",
      "  20 (10.00%) Train loss: 60.287 \t Validation loss: 51.687\n",
      "  30 (15.00%) Train loss: 14.566 \t Validation loss: 12.012\n",
      "  40 (20.00%) Train loss: 26.330 \t Validation loss: 22.163\n",
      "  50 (25.00%) Train loss: 14.400 \t Validation loss: 11.938\n",
      "  60 (30.00%) Train loss: 18.312 \t Validation loss: 14.470\n",
      "  70 (35.00%) Train loss: 15.025 \t Validation loss: 11.928\n",
      "  80 (40.00%) Train loss: 15.049 \t Validation loss: 11.740\n",
      "  90 (45.00%) Train loss: 14.617 \t Validation loss: 11.414\n",
      " 100 (50.00%) Train loss: 14.313 \t Validation loss: 11.232\n",
      " 110 (55.00%) Train loss: 14.038 \t Validation loss: 11.050\n",
      " 120 (60.00%) Train loss: 13.815 \t Validation loss: 10.938\n",
      " 130 (65.00%) Train loss: 13.604 \t Validation loss: 10.873\n",
      " 140 (70.00%) Train loss: 13.447 \t Validation loss: 10.780\n",
      " 150 (75.00%) Train loss: 13.166 \t Validation loss: 10.445\n",
      " 160 (80.00%) Train loss: 12.663 \t Validation loss: 10.012\n",
      " 170 (85.00%) Train loss: 12.849 \t Validation loss: 10.257\n",
      " 180 (90.00%) Train loss: 13.119 \t Validation loss: 10.523\n",
      " 190 (95.00%) Train loss: 12.972 \t Validation loss: 10.255\n"
     ]
    }
   ]
  },
  {
   "cell_type": "code",
   "metadata": {
    "id": "VetyRWFwFtIY",
    "colab": {
     "height": 265,
     "base_uri": "https://localhost:8080/"
    },
    "pycharm": {
     "name": "#%%\n"
    },
    "outputId": "344e490d-6d7d-455a-fa6f-88dd11eb957e",
    "source_hash": null,
    "execution_start": 1693834661908,
    "execution_millis": 568,
    "deepnote_to_be_reexecuted": true,
    "cell_id": "7acc85b4127b4384843ed62fd9aa00a3",
    "deepnote_cell_type": "code"
   },
   "source": [
    "plt.plot(range(len(train_loss)), train_loss);\n",
    "plt.plot(range(len(val_loss)), val_loss);"
   ],
   "block_group": "43ec497a95564fd6903f3babce23d7c4",
   "execution_count": 34,
   "outputs": [
    {
     "data": {
      "text/plain": "<Figure size 640x480 with 1 Axes>",
      "image/png": "[encoded data removed]"
     },
     "metadata": {},
     "output_type": "display_data"
    }
   ]
  },
  {
   "cell_type": "markdown",
   "metadata": {
    "id": "8OgmIrM9FtIb",
    "pycharm": {
     "name": "#%% md\n"
    },
    "cell_id": "cdfbafe90af54236afcbba24614709dc",
    "deepnote_cell_type": "markdown"
   },
   "source": [
    "# Testing\n",
    "\n",
    "We have kept the calculation of the test error separate in order to emphasize that you should not use the test set in optimization."
   ],
   "block_group": "d23e7474c0ac4a58a8ab5bc6735ab3ce"
  },
  {
   "cell_type": "code",
   "metadata": {
    "id": "HmNi7S-vFtIc",
    "pycharm": {
     "name": "#%%\n"
    },
    "source_hash": null,
    "execution_start": 1693834669355,
    "execution_millis": 92,
    "deepnote_to_be_reexecuted": true,
    "cell_id": "b577e5028bdd4442a82197c71add07e1",
    "deepnote_cell_type": "code"
   },
   "source": [
    "output_test = forward(x_test, NN)"
   ],
   "block_group": "16773da897514fdfbe247bac3756342c",
   "execution_count": 35,
   "outputs": []
  },
  {
   "cell_type": "code",
   "metadata": {
    "id": "7mmJOTSEFtIf",
    "colab": {
     "height": 316,
     "base_uri": "https://localhost:8080/"
    },
    "pycharm": {
     "name": "#%%\n"
    },
    "outputId": "e3264095-cefe-4aee-893d-bf152438e332",
    "source_hash": null,
    "execution_start": 1693834670321,
    "execution_millis": 704,
    "deepnote_to_be_reexecuted": true,
    "cell_id": "d433c7ae2228455288dc706acd279443",
    "deepnote_cell_type": "code"
   },
   "source": [
    "y_test_np = Var_to_nparray(y_test)\n",
    "plt.scatter(y_test_np, Var_to_nparray(output_test));\n",
    "plt.plot([np.min(y_test_np), np.max(y_test_np)], [np.min(y_test_np), np.max(y_test_np)], color='k');\n",
    "plt.xlabel(\"y\");\n",
    "plt.ylabel(\"$\\hat{y}$\");\n",
    "plt.title(\"Model prediction vs real in the test set, the close to the line the better\")\n",
    "plt.grid(True);\n",
    "plt.axis('equal');\n",
    "plt.tight_layout();\n",
    "\n",
    "Loss_test = squared_loss(y_test, forward(x_test, NN))\n",
    "\n",
    "print(\"Test loss:  {:4.3f}\".format(Loss_test.v))"
   ],
   "block_group": "03a22763a9d846ceb52c74133aeb79cf",
   "execution_count": 36,
   "outputs": [
    {
     "name": "stdout",
     "output_type": "stream",
     "text": [
      "Test loss:  9.783\n"
     ]
    },
    {
     "data": {
      "text/plain": "<Figure size 640x480 with 1 Axes>",
      "image/png": "[encoded data removed]"
     },
     "metadata": {},
     "output_type": "display_data"
    }
   ]
  },
  {
   "cell_type": "code",
   "metadata": {
    "id": "ODi0WlmQFtIh",
    "colab": {
     "height": 279,
     "base_uri": "https://localhost:8080/"
    },
    "pycharm": {
     "name": "#%%\n"
    },
    "outputId": "d1ab874f-0717-4987-87bf-1f0c7c8e7148",
    "source_hash": null,
    "execution_start": 1693834065086,
    "execution_millis": 539,
    "deepnote_to_be_reexecuted": true,
    "cell_id": "bb2e00e3b6284eddaae0a385b85b82b2",
    "deepnote_cell_type": "code"
   },
   "source": [
    "x_test_np = Var_to_nparray(x_test)\n",
    "x_train_np = Var_to_nparray(x_train)\n",
    "y_train_np = Var_to_nparray(y_train)\n",
    "if D1:\n",
    "    plt.scatter(x_train_np, y_train_np, label=\"train data\");\n",
    "    plt.scatter(x_test_np, Var_to_nparray(output_test), label=\"test prediction\");\n",
    "    plt.scatter(x_test_np, y_test_np, label=\"test data\");\n",
    "    plt.legend();\n",
    "    plt.xlabel(\"x\");\n",
    "    plt.ylabel(\"y\");\n",
    "else:\n",
    "    plt.scatter(x_train_np[:,1], y_train, label=\"train data\");\n",
    "    plt.scatter(x_test_np[:,1], Var_to_nparray(output_test), label=\"test data prediction\");\n",
    "    plt.scatter(x_test_np[:,1], y_test_np, label=\"test data\");\n",
    "    plt.legend();\n",
    "    plt.xlabel(\"x\");\n",
    "    plt.ylabel(\"y\");"
   ],
   "block_group": "6e0222427f0d4b968e7f973240918e18",
   "execution_count": 37,
   "outputs": [
    {
     "data": {
      "text/plain": "<Figure size 640x480 with 1 Axes>",
      "image/png": "[encoded data removed]"
     },
     "metadata": {},
     "output_type": "display_data"
    }
   ]
  },
  {
   "cell_type": "markdown",
   "metadata": {
    "id": "zTBAmjsAFtIk",
    "pycharm": {
     "name": "#%% md\n"
    },
    "cell_id": "62776c4cf69447f79f3e48f801c22013",
    "deepnote_cell_type": "markdown"
   },
   "source": [
    "## Exercise l) Show overfitting, underfitting and just right fitting\n",
    "\n",
    "Vary the architecture and other things to show clear signs of overfitting (=training loss significantly lower than test loss) and underfitting (=not fitting enoung to training data so that test performance is also hurt).\n",
    "\n",
    "See also if you can get a good compromise which leads to a low validation loss. \n",
    "\n",
    "For this problem do you see any big difference between validation and test loss? The answer here will probably be no. Discuss cases where it is important to keep the two separate.\n",
    "\n",
    "# Answer\n",
    "\n",
    "So, because we're not running a (GPU) optimized neural network, I had a really hard time training the networks specifically for over fitting.\n",
    "\n",
    "So I'll describe what I WOULD do, could my PC (or the Deepnote notebook) actually handle my idea of overfitting:\n",
    "\n",
    "### Underfitting)\n",
    "\n",
    "For underfitting, we could just initialize the weights at $\\approx \\ -\\infty$ and use a sigmoid activation function, which would cause saturation from the get go, thereby making it impossible for the NN to learn anything. Note here, that a computer obviously cannot handle negative infinity. The point is just, that we initate the weights, such that they ensure that the value is at the asymptote, which is flat and therefore has a very small error.\n",
    "\n",
    "Another strategy would be to use a single EPOCH. And/or minimize the size of the training set.\n",
    "\n",
    "We would then expect to see a very big validation as well as training loss\n",
    "\n",
    "### Overfitting)\n",
    "\n",
    "Here we could run an architecture with an extreme width and a high amount of epochs. The first would give the NN the flexibility to adapt to every single point in our training data set. As an epoch is a run through our data, running through the data multiple times and repeatedly fitting the network to the same data, would naturally cause overfitting.\n",
    "\n",
    "We would then expect to see a very small training loss but a very big validation loss.\n",
    "\n",
    "### Compromise\n",
    "\n",
    "By just running the NN as it originally was with ReLu, we get approximately the same loss for validation and training.\n",
    "\n",
    "It is always important to keep the two seperated, as this is the only way to test an approximation of the generalizability of the ML.\n"
   ],
   "block_group": "04cc529dd1ee4c50ae873c8b7935c35e"
  },
  {
   "cell_type": "code",
   "metadata": {
    "id": "tQZCn2dxFtIl",
    "pycharm": {
     "name": "#%%\n"
    },
    "source_hash": null,
    "deepnote_to_be_reexecuted": true,
    "cell_id": "c621d48c93c044b5a2c6d3a7e728bb87",
    "deepnote_cell_type": "code"
   },
   "source": [
    "# Insert your code for getting overfitting, underfitting and just right fitting\n",
    "\n",
    "## Underfitting\n",
    "\n",
    "Neg = -100.0\n",
    "Under_NN = [ DenseLayer(1, 2, lambda x: x.sigmoid(), initializer = ConstantInitializer(Neg)),\n",
    "        DenseLayer(2, 1, lambda x: x.sigmoid(), initializer = ConstantInitializer(Neg))]\n",
    "\n",
    "k = 100\n",
    "Over_NN = [\n",
    "    DenseLayer(1, k, lambda x: x.relu()),\n",
    "    DenseLayer(k, k, lambda x: x.relu()),\n",
    "    DenseLayer(k, k, lambda x: x.relu()),\n",
    "    DenseLayer(k, 1, lambda x: x.identity())\n",
    "]\n",
    "\n",
    "Normal_NN = [\n",
    "    DenseLayer(1, 15, lambda x: x.relu()),\n",
    "    DenseLayer(15, 50, lambda x: x.relu()),\n",
    "    DenseLayer(50, 1, lambda x: x.identity())\n",
    "]\n",
    "\n"
   ],
   "block_group": "9fdcd76ac70a4981ad0f3d3c951af27c",
   "execution_count": 38,
   "outputs": []
  },
  {
   "cell_type": "markdown",
   "metadata": {
    "id": "fYPZP-eTFtIo",
    "pycharm": {
     "name": "#%% md\n"
    },
    "cell_id": "c6c387d9c4534ce2a1d1066c8014c22b",
    "deepnote_cell_type": "markdown"
   },
   "source": [
    "# Next steps - classification\n",
    "\n",
    "It is straight forward to extend what we have done to classification. \n",
    "\n",
    "For numerical stability it is better to make softmax and cross-entropy as one function so we write the cross entropy loss as a function of the logits we talked about last week. \n",
    "\n",
    "Next week we will see how to perform classification in PyTorch."
   ],
   "block_group": "1b1c49185fb54f2ca6553879f11eafbd"
  },
  {
   "cell_type": "markdown",
   "metadata": {
    "id": "qsVPul3QFtIo",
    "pycharm": {
     "name": "#%% md\n"
    },
    "cell_id": "74ae4a9956d14888a6307047aabbe009",
    "deepnote_cell_type": "markdown"
   },
   "source": [
    "## Exercise m) optional - Implement backpropagation for classification\n",
    "\n",
    "Should be possible with very few lines of code. :-)"
   ],
   "block_group": "2cafec698f8441e383c7c7bf172c14b2"
  },
  {
   "cell_type": "code",
   "metadata": {
    "id": "oC8QrI2tFtIp",
    "pycharm": {
     "name": "#%%\n"
    },
    "source_hash": null,
    "deepnote_to_be_reexecuted": true,
    "cell_id": "1aa5a3073f9a46818555d32e15754162",
    "deepnote_cell_type": "code"
   },
   "source": [
    "# Just add code."
   ],
   "block_group": "7632e1f3e0854c0bb4ad67f644b28702",
   "execution_count": null,
   "outputs": []
  },
  {
   "cell_type": "markdown",
   "metadata": {
    "id": "APqhJv3tta1O",
    "pycharm": {
     "name": "#%% md\n"
    },
    "cell_id": "986cb4968f4942209d5804797ed07043",
    "deepnote_cell_type": "markdown"
   },
   "source": [
    "## Exercise n) optional - Introduce a NeuralNetwork class\n",
    "\n",
    "The functions we applied on the neural network (parameters, update_parameters and zero_gradients) can more naturally be included as methods in a NeuralNetwork class. Make such a class and modify the code to use it. "
   ],
   "block_group": "c33da718b04d49e68d27583522208264"
  },
  {
   "cell_type": "code",
   "metadata": {
    "id": "Dqfnor1ouMLq",
    "pycharm": {
     "name": "#%%\n"
    },
    "source_hash": null,
    "deepnote_to_be_reexecuted": true,
    "cell_id": "e8ad7f2cc98147bf858aff50ea966a1a",
    "deepnote_cell_type": "code"
   },
   "source": [
    "# just add some code"
   ],
   "block_group": "b1601e303379461fb5cd2d0b04930055",
   "execution_count": null,
   "outputs": []
  }
 ],
 "nbformat": 4,
 "nbformat_minor": 0,
 "metadata": {
  "colab": {
   "name": "2.1-EXE-FNN-AutoDif-Nanograd.ipynb",
   "provenance": [],
   "collapsed_sections": [
    "U4057_ljNvWB",
    "p_8n_SKnIW2F",
    "oLrGJytZFtGm",
    "jpIZPBpNI0pO",
    "_79HOAXrFtHK",
    "mqeyab9qFtGs",
    "-XyXBD37FtHk",
    "SrwSJ2UWFtHu",
    "zTBAmjsAFtIk",
    "qsVPul3QFtIo",
    "APqhJv3tta1O"
   ]
  },
  "deepnote": {},
  "kernelspec": {
   "name": "python3",
   "language": "python",
   "display_name": "Python 3"
  },
  "language_info": {
   "name": "python",
   "version": "3.9.12",
   "mimetype": "text/x-python",
   "file_extension": ".py",
   "pygments_lexer": "ipython3",
   "codemirror_mode": {
    "name": "ipython",
    "version": 3
   },
   "nbconvert_exporter": "python"
  },
  "anaconda-cloud": {},
  "deepnote_notebook_id": "62188a3e65b4481eb3d1fb23a7080c8c",
  "deepnote_execution_queue": []
 }
}